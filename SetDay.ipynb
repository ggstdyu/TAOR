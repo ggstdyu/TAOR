{
 "cells": [
  {
   "cell_type": "code",
   "execution_count": null,
   "metadata": {},
   "outputs": [],
   "source": [
    "import os\n",
    "import pandas as pd\n",
    "import numpy as np"
   ]
  },
  {
   "cell_type": "code",
   "execution_count": null,
   "metadata": {},
   "outputs": [],
   "source": [
    "# 读取Summer文件夹中以“Summer 20”开头的文件\n",
    "\n",
    "files = os.listdir('Summer')\n",
    "files = [file for file in files if file.startswith('Summer 20')]\n",
    "for file in files:\n",
    "    year = file.split('_')[0].split(' ')[-1]\n",
    "    # 给每个文件添加一列“Day”\n",
    "    # 读取文件\n",
    "    df = pd.read_csv('Summer/' + file)\n",
    "    # 添加“Day”列\n",
    "    df['Pos'] = np.nan\n",
    "    for i in range(len(df)):\n",
    "        if df.loc[i, 'Result'].split(' ')[0] == 'Postponed':\n",
    "            aMonth = df.loc[i, 'Result'].split(',')[0].split(' ')[-2]\n",
    "            aDay = df.loc[i, 'Result'].split(',')[0].split(' ')[-1]\n",
    "            if aMonth == 'Jun':\n",
    "                aMonth = '06'\n",
    "            elif aMonth == 'Jul':\n",
    "                aMonth = '07'\n",
    "            elif aMonth == 'Aug':\n",
    "                aMonth = '08'\n",
    "            elif aMonth == 'May':\n",
    "                aMonth = '05'\n",
    "            if len(aDay) == 1:\n",
    "                aDay = '0' + aDay\n",
    "            aPos = aMonth + '-' + aDay\n",
    "            df.loc[i, 'Pos'] = aPos\n",
    "    # 保存至原文件\n",
    "    df.to_csv('Summer/' + file, index=False)\n",
    "    print('File ' + file + ' has been processed.')"
   ]
  }
 ],
 "metadata": {
  "kernelspec": {
   "display_name": "Python 3",
   "language": "python",
   "name": "python3"
  },
  "language_info": {
   "codemirror_mode": {
    "name": "ipython",
    "version": 3
   },
   "file_extension": ".py",
   "mimetype": "text/x-python",
   "name": "python",
   "nbconvert_exporter": "python",
   "pygments_lexer": "ipython3",
   "version": "3.12.7"
  }
 },
 "nbformat": 4,
 "nbformat_minor": 2
}
