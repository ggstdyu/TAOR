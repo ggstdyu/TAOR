{
 "cells": [
  {
   "cell_type": "code",
   "execution_count": 31,
   "metadata": {},
   "outputs": [],
   "source": [
    "import os\n",
    "import pandas as pd\n",
    "\n",
    "ENDS = [[\"2016\", \"06-01\", \"07-31\", \"07-26\"],\n",
    "    [\"2017\", \"06-02\", \"07-31\", \"07-27\"],\n",
    "    [\"2018\", \"06-01\", \"07-31\", \"07-26\"],\n",
    "    [\"2019\", \"05-31\", \"07-31\", \"07-25\"],\n",
    "    [\"2021\", \"06-05\", \"07-31\", \"07-23\"],#开始减少了一周\n",
    "    [\"2022\", \"06-02\", \"07-31\", \"07-23\"]]\n",
    "\n",
    "for end in ENDS:\n",
    "    year = end[0]\n",
    "    path = \"./Summer/\"\n",
    "    all_files = os.listdir(path)\n",
    "    files = [file for file in all_files if file.startswith(\"Summer \" + year)]\n",
    "\n",
    "    dates = pd.date_range(year+\"-\"+end[1], year+\"-\"+end[2], freq=\"D\")\n",
    "    dates = [date.strftime(\"%m-%d\") for date in dates]\n",
    "    df = pd.DataFrame(index=dates)\n",
    "\n",
    "\n",
    "    for file in files:\n",
    "        team = file.split(\"_\")[1][:-4]\n",
    "        df[team] = \"\"\n",
    "        data = pd.read_csv(path + file)\n",
    "        for i in range(data.shape[0]):\n",
    "            day = data.loc[i, \"Day\"]\n",
    "            if df.loc[day, team] == \"\":\n",
    "                df.loc[day, team] = 1\n",
    "            else:\n",
    "                df.loc[day, team] += 1\n",
    "        for i in range(data.shape[0]):\n",
    "            # 如果data的第i行的Pos列为空，则跳过\n",
    "            if pd.isnull(data.loc[i, \"Pos\"]):\n",
    "                continue\n",
    "            pos = data.loc[i, \"Pos\"]\n",
    "            if pos == \"-n/a\":\n",
    "                continue\n",
    "            if pd.isnull(df.loc[pos, team]):\n",
    "                df.loc[pos, team] = -1\n",
    "            else:\n",
    "                df.loc[pos, team] -= 1\n",
    "\n",
    "    # 创建一个名为“Summer 2016.csv”的文件，用于存储所有数据\n",
    "    df.to_csv(\"Summer \"+year+\".csv\")\n"
   ]
  },
  {
   "cell_type": "markdown",
   "metadata": {},
   "source": [
    "\n",
    "2016,6,20,27,30,34,35,40,41,48\n",
    "2017,18,25,32,33,38,39,46,53\n",
    "2018,18,25,32,34,38,39,46,53\n",
    "2019,18,25,32,35,38,39,46,53\n",
    "2021,24,30,37,45,\n",
    "2022,12,19,27,33,40,46,47\n",
    "\n",
    "all star\n",
    "2016: 07-10\n",
    "2017: 07-09\n",
    "2018: 07-08\n",
    "2019: 07-07\n",
    "2021: 07-11\n",
    "2022: 07-17"
   ]
  }
 ],
 "metadata": {
  "kernelspec": {
   "display_name": "Python 3",
   "language": "python",
   "name": "python3"
  },
  "language_info": {
   "codemirror_mode": {
    "name": "ipython",
    "version": 3
   },
   "file_extension": ".py",
   "mimetype": "text/x-python",
   "name": "python",
   "nbconvert_exporter": "python",
   "pygments_lexer": "ipython3",
   "version": "3.12.7"
  }
 },
 "nbformat": 4,
 "nbformat_minor": 2
}
